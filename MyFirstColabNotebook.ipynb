{
  "nbformat": 4,
  "nbformat_minor": 0,
  "metadata": {
    "colab": {
      "name": "MyFirstColabNotebook.ipynb",
      "provenance": [],
      "authorship_tag": "ABX9TyNYCVn9J2aOT1CJPy/S/A/e",
      "include_colab_link": true
    },
    "kernelspec": {
      "name": "python3",
      "display_name": "Python 3"
    },
    "accelerator": "GPU"
  },
  "cells": [
    {
      "cell_type": "markdown",
      "metadata": {
        "id": "view-in-github",
        "colab_type": "text"
      },
      "source": [
        "<a href=\"https://colab.research.google.com/github/thammagig/Hello-World/blob/master/MyFirstColabNotebook.ipynb\" target=\"_parent\"><img src=\"https://colab.research.google.com/assets/colab-badge.svg\" alt=\"Open In Colab\"/></a>"
      ]
    },
    {
      "cell_type": "code",
      "metadata": {
        "id": "nHPRLPFeZmZc",
        "colab_type": "code",
        "colab": {
          "base_uri": "https://localhost:8080/",
          "height": 35
        },
        "outputId": "e46f21bb-a600-4fec-e9e5-c3b1db0f0e7d"
      },
      "source": [
        "import time\n",
        "print(time.ctime())"
      ],
      "execution_count": 2,
      "outputs": [
        {
          "output_type": "stream",
          "text": [
            "Wed Feb 26 16:49:51 2020\n"
          ],
          "name": "stdout"
        }
      ]
    },
    {
      "cell_type": "code",
      "metadata": {
        "id": "ebC8MgUbZ1XU",
        "colab_type": "code",
        "colab": {
          "base_uri": "https://localhost:8080/",
          "height": 35
        },
        "outputId": "1d1b35ee-2fe9-49c5-f5f6-4638aa2f5fa3"
      },
      "source": [
        "time.sleep(5)\n",
        "print(time.ctime())"
      ],
      "execution_count": 4,
      "outputs": [
        {
          "output_type": "stream",
          "text": [
            "Wed Feb 26 16:51:46 2020\n"
          ],
          "name": "stdout"
        }
      ]
    },
    {
      "cell_type": "markdown",
      "metadata": {
        "id": "UHbkHmBCaVT-",
        "colab_type": "text"
      },
      "source": [
        "This is **bold**.\n",
        "This is *italic*.\n",
        "This is ~strikethrough~."
      ]
    },
    {
      "cell_type": "markdown",
      "metadata": {
        "id": "199W_UNkar3k",
        "colab_type": "text"
      },
      "source": [
        "$ \\sqrt{3x-1}+(1+x)^2$"
      ]
    },
    {
      "cell_type": "markdown",
      "metadata": {
        "id": "vKoVGjMTa4__",
        "colab_type": "text"
      },
      "source": [
        "$e^x=\\sum_{i=0}^\\infty \\frac{1}{i!}x^i$\n",
        "\n"
      ]
    },
    {
      "cell_type": "markdown",
      "metadata": {
        "id": "PGOT_3T7beL5",
        "colab_type": "text"
      },
      "source": [
        "Constraints are \n",
        "*   $3x_1 + 6x_2 + x_3 =< 28$\n",
        "*   $7x_1 + 3x_2 + 2x_3 =< 37$\n",
        "* $4x_1 + 5x_2 + 2x_3 =< 19$\n",
        "* $x_1,x_2, x_3 >= 0$\n",
        "\n",
        "\n",
        "\n",
        "\n",
        "\n"
      ]
    },
    {
      "cell_type": "markdown",
      "metadata": {
        "id": "Od6JpHWacQeA",
        "colab_type": "text"
      },
      "source": [
        "The trial vector is calculated as follows:\n",
        "* $u_i(t) = x_i(t) + \\beta(\\hat{x}(t) - x_i(t)) + \\beta \\sum_{k=1}^{n_v}(x_{i1,k}(t) - x_{i2,k}(t)$\n",
        "*$f(x_1,x_2) = 20 + e -20exp(-0.2 \\sqrt {\\frac {1}{n} (x_1^2 + x_2^2)}) -exp\n",
        "(\\frac {1}{n}(cos(2\\pi x_1) + cos(2\\pi x_2)) $\n",
        "* $x ∈ [-5, 5]$"
      ]
    },
    {
      "cell_type": "markdown",
      "metadata": {
        "id": "rNtaZm7iewTj",
        "colab_type": "text"
      },
      "source": [
        "$A_{m,n} =\n",
        "\\begin{pmatrix}\n",
        " a_{1,1} & a_{1,2} & \\cdots & a_{1,n} \\\\\n",
        " a_{2,1} & a_{2,2} & \\cdots & a_{2,n} \\\\\n",
        " \\vdots & \\vdots & \\ddots & \\vdots \\\\\n",
        " a_{m,1} & a_{m,2} & \\cdots & a_{m,n}\n",
        "\\end{pmatrix}$\n"
      ]
    },
    {
      "cell_type": "code",
      "metadata": {
        "id": "KIG8zp2IbNc9",
        "colab_type": "code",
        "colab": {}
      },
      "source": [
        ""
      ],
      "execution_count": 0,
      "outputs": []
    }
  ]
}